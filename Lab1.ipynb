{
  "nbformat": 4,
  "nbformat_minor": 0,
  "metadata": {
    "colab": {
      "name": "Lab1.ipynb",
      "provenance": [],
      "authorship_tag": "ABX9TyMdQSA4GY6UQKKfjIJxkWER",
      "include_colab_link": true
    },
    "kernelspec": {
      "name": "python3",
      "display_name": "Python 3"
    },
    "language_info": {
      "name": "python"
    }
  },
  "cells": [
    {
      "cell_type": "markdown",
      "metadata": {
        "id": "view-in-github",
        "colab_type": "text"
      },
      "source": [
        "<a href=\"https://colab.research.google.com/github/EJ-Capito/CPEN-21A-ECE-2-3/blob/main/Lab1.ipynb\" target=\"_parent\"><img src=\"https://colab.research.google.com/assets/colab-badge.svg\" alt=\"Open In Colab\"/></a>"
      ]
    },
    {
      "cell_type": "markdown",
      "metadata": {
        "id": "y1mv79tDkqyb"
      },
      "source": [
        "#Laboratory 1"
      ]
    },
    {
      "cell_type": "code",
      "metadata": {
        "colab": {
          "base_uri": "https://localhost:8080/"
        },
        "id": "9B-ZI8PJkvcA",
        "outputId": "5a1870c7-1b12-4eae-8008-1163e8f77f93"
      },
      "source": [
        "print(\"Welcome to Python Programming\")"
      ],
      "execution_count": 1,
      "outputs": [
        {
          "output_type": "stream",
          "name": "stdout",
          "text": [
            "Welcome to Python Programming\n"
          ]
        }
      ]
    },
    {
      "cell_type": "code",
      "metadata": {
        "colab": {
          "base_uri": "https://localhost:8080/"
        },
        "id": "Aei_rCcuk4A9",
        "outputId": "ef197ee4-faa1-4ed7-8528-1f1e51ac0c04"
      },
      "source": [
        "name = \"Emmanuel Joseph D.Capito\"\n",
        "Address = \"Blk 32 Lot 39 Tierra Solana, Brgy Buenavista 3 General Trias Cavite\"\n",
        "Age = \"19 years old\"\n",
        "print(\"Name:\",name)\n",
        "print(\"Address:\", Address)\n",
        "print(\"Age:\", Age)"
      ],
      "execution_count": 5,
      "outputs": [
        {
          "output_type": "stream",
          "name": "stdout",
          "text": [
            "Name: Emmanuel Joseph D.Capito\n",
            "Address: Blk 32 Lot 39 Tierra Solana, Brgy Buenavista 3 General Trias Cavite\n",
            "Age: 19 years old\n"
          ]
        }
      ]
    },
    {
      "cell_type": "code",
      "metadata": {
        "id": "CGDU3G-QmFaV"
      },
      "source": [
        ""
      ],
      "execution_count": null,
      "outputs": []
    }
  ]
}