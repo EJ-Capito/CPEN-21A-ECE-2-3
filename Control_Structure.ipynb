{
  "nbformat": 4,
  "nbformat_minor": 0,
  "metadata": {
    "colab": {
      "name": "Control Structure.ipynb",
      "provenance": [],
      "authorship_tag": "ABX9TyPVx+k866SvKRKYV1+QJhJf",
      "include_colab_link": true
    },
    "kernelspec": {
      "name": "python3",
      "display_name": "Python 3"
    },
    "language_info": {
      "name": "python"
    }
  },
  "cells": [
    {
      "cell_type": "markdown",
      "metadata": {
        "id": "view-in-github",
        "colab_type": "text"
      },
      "source": [
        "<a href=\"https://colab.research.google.com/github/EJ-Capito/CPEN-21A-ECE-2-3/blob/main/Control_Structure.ipynb\" target=\"_parent\"><img src=\"https://colab.research.google.com/assets/colab-badge.svg\" alt=\"Open In Colab\"/></a>"
      ]
    },
    {
      "cell_type": "markdown",
      "metadata": {
        "id": "cj6Y6z8zyyod"
      },
      "source": [
        "##If Statement"
      ]
    },
    {
      "cell_type": "code",
      "metadata": {
        "colab": {
          "base_uri": "https://localhost:8080/"
        },
        "id": "eQJiVx7dy23d",
        "outputId": "c8b8a15c-20d3-4866-ff29-f223795834e8"
      },
      "source": [
        "a = 12\n",
        "b = 100\n",
        "if a<b:\n",
        "  print(\"a is less than b\")"
      ],
      "execution_count": 1,
      "outputs": [
        {
          "output_type": "stream",
          "name": "stdout",
          "text": [
            "a is less than b\n"
          ]
        }
      ]
    },
    {
      "cell_type": "markdown",
      "metadata": {
        "id": "TxsJbaRbzYH_"
      },
      "source": [
        "##Elif Statements"
      ]
    },
    {
      "cell_type": "code",
      "metadata": {
        "colab": {
          "base_uri": "https://localhost:8080/"
        },
        "id": "BhfzDJ2lzaUS",
        "outputId": "856e89e4-4eb1-4729-fd88-bd6b5af55648"
      },
      "source": [
        "a = 30\n",
        "b = 15\n",
        "if a<b:\n",
        "  print(\"a is less than b\")\n",
        "elif a>b:\n",
        "  print(\"a is greater than b\")\n"
      ],
      "execution_count": 4,
      "outputs": [
        {
          "output_type": "stream",
          "name": "stdout",
          "text": [
            "a is greater than b\n"
          ]
        }
      ]
    },
    {
      "cell_type": "markdown",
      "metadata": {
        "id": "9NfKHCxE0F5M"
      },
      "source": [
        "##Else Statements"
      ]
    },
    {
      "cell_type": "code",
      "metadata": {
        "colab": {
          "base_uri": "https://localhost:8080/"
        },
        "id": "pK3vn_Zt0KHU",
        "outputId": "2191b096-0171-47af-c93e-8c25ffae896f"
      },
      "source": [
        "a = 30\n",
        "b = 15\n",
        "if a<b:\n",
        "  print(\"a is less than b\")\n",
        "elif a>b:\n",
        "  print(\"a is greater than b\")\n",
        "else:\n",
        "  print(\"a is equal to b\")"
      ],
      "execution_count": 5,
      "outputs": [
        {
          "output_type": "stream",
          "name": "stdout",
          "text": [
            "a is greater than b\n"
          ]
        }
      ]
    },
    {
      "cell_type": "markdown",
      "metadata": {
        "id": "nHWaA9gM0vpg"
      },
      "source": [
        "##Short Hand If Statement"
      ]
    },
    {
      "cell_type": "code",
      "metadata": {
        "colab": {
          "base_uri": "https://localhost:8080/"
        },
        "id": "vtsJDIGG01Ok",
        "outputId": "3933b2a7-392c-4f01-99a4-f96a85893721"
      },
      "source": [
        "a = 75\n",
        "b = 32\n",
        "\n",
        "if a>b:print(\"a is greater than b\")"
      ],
      "execution_count": 6,
      "outputs": [
        {
          "output_type": "stream",
          "name": "stdout",
          "text": [
            "a is greater than b\n"
          ]
        }
      ]
    },
    {
      "cell_type": "markdown",
      "metadata": {
        "id": "DLCptmCa1Mvt"
      },
      "source": [
        "##Short Hand If.. Else Statement"
      ]
    },
    {
      "cell_type": "code",
      "metadata": {
        "colab": {
          "base_uri": "https://localhost:8080/"
        },
        "id": "NkdqywCP1Vyv",
        "outputId": "fa9ab021-4588-4954-8133-a37dfadbf932"
      },
      "source": [
        "print(\"a is greater than b\") if a>b else print(\"b is greater than a\")"
      ],
      "execution_count": 7,
      "outputs": [
        {
          "output_type": "stream",
          "name": "stdout",
          "text": [
            "a is greater than b\n"
          ]
        }
      ]
    },
    {
      "cell_type": "markdown",
      "metadata": {
        "id": "LGxlktJ02IZR"
      },
      "source": [
        "##And logic condition"
      ]
    },
    {
      "cell_type": "code",
      "metadata": {
        "colab": {
          "base_uri": "https://localhost:8080/"
        },
        "id": "qjuLLxAn2fBg",
        "outputId": "fcdd2e7e-f69b-474a-c975-f472653d40ad"
      },
      "source": [
        "a = 300\n",
        "b = 33\n",
        "c = 500\n",
        "if a>b and c>a:\n",
        "  print(\"Both conditions are True\")\n",
        "else:\n",
        "  print(\"Either of the two conditions is True\")"
      ],
      "execution_count": 8,
      "outputs": [
        {
          "output_type": "stream",
          "name": "stdout",
          "text": [
            "Both conditions are True\n"
          ]
        }
      ]
    },
    {
      "cell_type": "markdown",
      "metadata": {
        "id": "8nLSMpnN3Fiw"
      },
      "source": [
        "##Or logic condition"
      ]
    },
    {
      "cell_type": "code",
      "metadata": {
        "colab": {
          "base_uri": "https://localhost:8080/"
        },
        "id": "Ol3eCz5D3ICG",
        "outputId": "c8d0d26a-85f5-4e93-9479-ba6e1ea9bbf6"
      },
      "source": [
        "if a<b or c>a:\n",
        "  print(\"True\")\n",
        "else:\n",
        "  print(\"False\")"
      ],
      "execution_count": 9,
      "outputs": [
        {
          "output_type": "stream",
          "name": "stdout",
          "text": [
            "True\n"
          ]
        }
      ]
    },
    {
      "cell_type": "markdown",
      "metadata": {
        "id": "lsMq7-3r34wD"
      },
      "source": [
        "##Nested If"
      ]
    },
    {
      "cell_type": "code",
      "metadata": {
        "colab": {
          "base_uri": "https://localhost:8080/"
        },
        "id": "Cw3xQhPu4M6O",
        "outputId": "423f70f0-98d5-433b-c869-56edf2a2d75e"
      },
      "source": [
        "x = 41\n",
        "if x>10:\n",
        "  print(\"Above 10\")\n",
        "  if x>20:\n",
        "    print(\"and Above 20!\")\n",
        "    if x>30:\n",
        "      print(\"and Above 30\")\n",
        "    else:\n",
        "        print(\"not above 30\")\n",
        "  else:\n",
        "      print(\"not above 20\")\n",
        "else:\n",
        "  print(\"below 10\")\n",
        "     "
      ],
      "execution_count": 76,
      "outputs": [
        {
          "output_type": "stream",
          "name": "stdout",
          "text": [
            "Above 10\n",
            "and Above 20!\n",
            "and Above 30\n"
          ]
        }
      ]
    },
    {
      "cell_type": "markdown",
      "metadata": {
        "id": "x0hXxhOI5h6R"
      },
      "source": [
        "##Example 1"
      ]
    },
    {
      "cell_type": "code",
      "metadata": {
        "colab": {
          "base_uri": "https://localhost:8080/"
        },
        "id": "mB8m6ZBg7nEa",
        "outputId": "1ff42909-986e-4b2c-9d32-b82547cff49a"
      },
      "source": [
        "age = int(input(\"Enter your Age:\"))\n",
        "if age>=18:\n",
        " print(\"You are qualified to vote\")\n",
        "else:\n",
        "  print(\"You are not qualified to vote\")"
      ],
      "execution_count": 35,
      "outputs": [
        {
          "output_type": "stream",
          "name": "stdout",
          "text": [
            "Enter your Age:22\n",
            "You are qualified to vote\n"
          ]
        }
      ]
    },
    {
      "cell_type": "markdown",
      "metadata": {
        "id": "M7yQA9W28WER"
      },
      "source": [
        "##Example 2"
      ]
    },
    {
      "cell_type": "code",
      "metadata": {
        "colab": {
          "base_uri": "https://localhost:8080/"
        },
        "id": "Hug3s_3D8cYc",
        "outputId": "eb677537-a18a-4b87-f6a7-5c38732e1624"
      },
      "source": [
        "#Write a program that determines if the input number is Positive, Negative, or Zero\n",
        "#Number>0 = \"Positive\"\n",
        "#Number<0 = \"Negative\"\n",
        "#Number=0 = \"Zero\"\n",
        "\n",
        "Number = float(input(\"Enter Input Number:\"))\n",
        "if Number>0:\n",
        "  print(\"Positive\")\n",
        "if Number<0:\n",
        "    print(\"Negative\")\n",
        "if Number==0:\n",
        "      print(\"Zero\")\n"
      ],
      "execution_count": 79,
      "outputs": [
        {
          "output_type": "stream",
          "name": "stdout",
          "text": [
            "Enter Input Number:3456\n",
            "Positive\n"
          ]
        }
      ]
    },
    {
      "cell_type": "markdown",
      "metadata": {
        "id": "hiASf35E8dK2"
      },
      "source": [
        "##Example 3"
      ]
    },
    {
      "cell_type": "code",
      "metadata": {
        "colab": {
          "base_uri": "https://localhost:8080/"
        },
        "id": "Gv4qg71a8eou",
        "outputId": "3ede22dc-0e74-41d6-e75b-498c909b0465"
      },
      "source": [
        "#Write a Python program that determines if the grades are:\n",
        "#grade> = 75\"Passed\"\n",
        "#grade==74\"Remedial\"\n",
        "#grade<74\"Failed\"\n",
        "\n",
        "grade = float(input(\"Enter your grade:\"))\n",
        "if grade>=75:\n",
        "  print(\"You Passed\")\n",
        "elif grade>74 and grade<75:\n",
        "  print(\"Remedial\")\n",
        "else:\n",
        "    print(\"You Failed\")\n",
        "\n"
      ],
      "execution_count": 39,
      "outputs": [
        {
          "output_type": "stream",
          "name": "stdout",
          "text": [
            "Enter your grade:74.5\n",
            "Remedial\n"
          ]
        }
      ]
    }
  ]
}