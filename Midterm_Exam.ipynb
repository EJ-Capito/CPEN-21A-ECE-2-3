{
  "nbformat": 4,
  "nbformat_minor": 0,
  "metadata": {
    "colab": {
      "name": "Midterm Exam.ipynb",
      "provenance": [],
      "authorship_tag": "ABX9TyOJjLKHjK/yVDmffR3bFLI6",
      "include_colab_link": true
    },
    "kernelspec": {
      "name": "python3",
      "display_name": "Python 3"
    },
    "language_info": {
      "name": "python"
    }
  },
  "cells": [
    {
      "cell_type": "markdown",
      "metadata": {
        "id": "view-in-github",
        "colab_type": "text"
      },
      "source": [
        "<a href=\"https://colab.research.google.com/github/EJ-Capito/CPEN-21A-ECE-2-3/blob/main/Midterm_Exam.ipynb\" target=\"_parent\"><img src=\"https://colab.research.google.com/assets/colab-badge.svg\" alt=\"Open In Colab\"/></a>"
      ]
    },
    {
      "cell_type": "markdown",
      "metadata": {
        "id": "a-5wsQSvtRXC"
      },
      "source": [
        "##Problem Statement 1"
      ]
    },
    {
      "cell_type": "code",
      "metadata": {
        "colab": {
          "base_uri": "https://localhost:8080/"
        },
        "id": "PFxh_AUftVFD",
        "outputId": "1d4b464d-bf1f-4b92-b2e4-cad63ba3e2da"
      },
      "source": [
        "Fullname = \"Emmanuel Joseph D. Capito\"\n",
        "StudentNumber = \"202012098\"\n",
        "Age = \"19 years old\"\n",
        "Birthday = \"April 28, 2002\"\n",
        "Address = \"Blk 32 Lot 39 Tierra Solana, Brgy Buenavista 3 General Trias Cavite\"\n",
        "Course = \"BS Electronics Engineering\"\n",
        "LastSemGWA = \"1.64\"\n",
        "\n",
        "print(\"Fullname:\",Fullname)\n",
        "print(\"StudentNumber:\", StudentNumber)\n",
        "print(\"Age:\", Age)\n",
        "print(\"Birthday:\", Birthday)\n",
        "print(\"Address:\", Address)\n",
        "print(\"Course:\", Course)\n",
        "print(\"LastSemGWA:\",LastSemGWA)"
      ],
      "execution_count": 58,
      "outputs": [
        {
          "output_type": "stream",
          "name": "stdout",
          "text": [
            "Fullname: Emmanuel Joseph D. Capito\n",
            "StudentNumber: 202012098\n",
            "Age: 19 years old\n",
            "Birthday: April 28, 2002\n",
            "Address: Blk 32 Lot 39 Tierra Solana, Brgy Buenavista 3 General Trias Cavite\n",
            "Course: BS Electronics Engineering\n",
            "LastSemGWA: 1.64\n"
          ]
        }
      ]
    },
    {
      "cell_type": "markdown",
      "metadata": {
        "id": "MkwHdsupwAgr"
      },
      "source": [
        "##Problem Statement 2"
      ]
    },
    {
      "cell_type": "code",
      "metadata": {
        "colab": {
          "base_uri": "https://localhost:8080/"
        },
        "id": "ZYs0haMXy8IM",
        "outputId": "c576d863-6611-46a3-82f1-c8810c4a39a6"
      },
      "source": [
        "n=4 \n",
        "answ =\"Y\"\n",
        "print(2<n and n<6)\n",
        "print(2<n or n==6)\n",
        "print(not(2<n or n==6))\n",
        "print(not(n<6))\n",
        "print(answ==\"Y\" or answ==\"y\")\n",
        "print(answ==\"Y\" and answ==\"y\")\n",
        "print(not(answ==\"y\"))\n",
        "print(2<n and n==5+1 or answ==\"No\")\n",
        "print(n==2 and n==7 or answ==\"Y\")\n",
        "print(n==2 and (n==7 or answ==\"Y\"))"
      ],
      "execution_count": 56,
      "outputs": [
        {
          "output_type": "stream",
          "name": "stdout",
          "text": [
            "True\n",
            "True\n",
            "False\n",
            "False\n",
            "True\n",
            "False\n",
            "True\n",
            "False\n",
            "True\n",
            "False\n"
          ]
        }
      ]
    },
    {
      "cell_type": "markdown",
      "metadata": {
        "id": "fxlw80BN2A9u"
      },
      "source": [
        "##Problem Statement 3"
      ]
    },
    {
      "cell_type": "code",
      "metadata": {
        "colab": {
          "base_uri": "https://localhost:8080/"
        },
        "id": "Ky_xv8CR2Dy2",
        "outputId": "a4404ab9-8b23-4c25-95f9-c1a7ddbda4fc"
      },
      "source": [
        "x=2\n",
        "y=-3\n",
        "w=7\n",
        "z=-10\n",
        "\n",
        "print(x/y)\n",
        "print(w/y/x)\n",
        "print(z/y%x)\n",
        "print(x%-y*w)\n",
        "print(x%y)\n",
        "print(z%w-y/x*5+5)\n",
        "print(9-x%(2+y))\n",
        "print(z//w)\n",
        "print(2+y**2)\n",
        "print(w/x*2)\n"
      ],
      "execution_count": 44,
      "outputs": [
        {
          "output_type": "stream",
          "name": "stdout",
          "text": [
            "-0.6666666666666666\n",
            "-1.1666666666666667\n",
            "1.3333333333333335\n",
            "14\n",
            "-1\n",
            "16.5\n",
            "9\n",
            "-2\n",
            "11\n",
            "7.0\n"
          ]
        }
      ]
    }
  ]
}