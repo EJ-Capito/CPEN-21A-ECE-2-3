{
  "nbformat": 4,
  "nbformat_minor": 0,
  "metadata": {
    "colab": {
      "name": "Final Exam.ipynb",
      "provenance": [],
      "collapsed_sections": [],
      "authorship_tag": "ABX9TyOmkD8ToSwt2AgoArH2n4g0",
      "include_colab_link": true
    },
    "kernelspec": {
      "name": "python3",
      "display_name": "Python 3"
    },
    "language_info": {
      "name": "python"
    }
  },
  "cells": [
    {
      "cell_type": "markdown",
      "metadata": {
        "id": "view-in-github",
        "colab_type": "text"
      },
      "source": [
        "<a href=\"https://colab.research.google.com/github/EJ-Capito/CPEN-21A-ECE-2-3/blob/main/Final_Exam.ipynb\" target=\"_parent\"><img src=\"https://colab.research.google.com/assets/colab-badge.svg\" alt=\"Open In Colab\"/></a>"
      ]
    },
    {
      "cell_type": "markdown",
      "source": [
        "##Final Exam"
      ],
      "metadata": {
        "id": "1j_bl2x1qQQF"
      }
    },
    {
      "cell_type": "markdown",
      "source": [
        "##Problem Statement 1"
      ],
      "metadata": {
        "id": "YnGykKJxqVHE"
      }
    },
    {
      "cell_type": "code",
      "execution_count": 16,
      "metadata": {
        "colab": {
          "base_uri": "https://localhost:8080/"
        },
        "id": "V3yEHeO4p8x9",
        "outputId": "7735178a-27f1-425a-ac83-432d6bfbb103"
      },
      "outputs": [
        {
          "output_type": "stream",
          "name": "stdout",
          "text": [
            "sum of 10 numbers less than 5 is: -5\n"
          ]
        }
      ],
      "source": [
        "#Create a Python program that will produce an output of sum of 10 numbers less than 5 using FOR LOOP statement.\n",
        "\n",
        "sum = 0\n",
        "number = (-5,-4,-3,-2,-1,0,1,2,3,4)\n",
        "for x in number:\n",
        "  sum = sum+x\n",
        "print(\"sum of 10 numbers less than 5 is:\", sum)"
      ]
    },
    {
      "cell_type": "markdown",
      "source": [
        "##Problem Statement 2"
      ],
      "metadata": {
        "id": "UKLQLzHBYSKH"
      }
    },
    {
      "cell_type": "code",
      "source": [
        "#Create a Python program that will produce accept five numbers and determine the sum of first and last number among the five numbers entered using WHILE LOOP\n",
        "\n",
        "w = int(input())\n",
        "y = w+17\n",
        "g = w+15\n",
        "h = w\n",
        "while w<y:\n",
        "  print(w)\n",
        "  w+=5\n",
        "  print(\"The sum of the First and Last Number is \", g+h)\n"
      ],
      "metadata": {
        "id": "tUv7T3CtYYCb",
        "colab": {
          "base_uri": "https://localhost:8080/"
        },
        "outputId": "de994f3d-8fc2-414e-9c1f-2544629b514c"
      },
      "execution_count": 5,
      "outputs": [
        {
          "output_type": "stream",
          "name": "stdout",
          "text": [
            "3\n",
            "3\n",
            "The sum of the First and Last Number is  21\n",
            "8\n",
            "The sum of the First and Last Number is  21\n",
            "13\n",
            "The sum of the First and Last Number is  21\n",
            "18\n",
            "The sum of the First and Last Number is  21\n"
          ]
        }
      ]
    },
    {
      "cell_type": "markdown",
      "source": [
        "##Problem Satement 3"
      ],
      "metadata": {
        "id": "dYI3xBECWzRH"
      }
    },
    {
      "cell_type": "code",
      "source": [
        "#Create a Python program to calculate student grades. It accepts a numerical grade as input and it will display the character grade as output based on the given scale: (Use Nested-IF-Else statement)\n",
        "\n",
        "Grade = float(input(\"Enter Your Grade \"))\n",
        "\n",
        "if 90 <= Grade <= 100:\n",
        "      print(\"A\")\n",
        "elif 80 <= Grade <= 89:\n",
        "      print(\"B\")\n",
        "elif 70 <= Grade <= 79:\n",
        "      print(\"C\")\n",
        "elif 60 <= Grade <= 69:\n",
        "      print(\"D\")\n",
        "else:\n",
        "      print(\"F\")"
      ],
      "metadata": {
        "id": "nJvQwvONW1p8",
        "colab": {
          "base_uri": "https://localhost:8080/"
        },
        "outputId": "15ad4700-fd22-4ee0-a577-85821f3856c8"
      },
      "execution_count": 12,
      "outputs": [
        {
          "output_type": "stream",
          "name": "stdout",
          "text": [
            "Enter Your Grade 99\n",
            "A\n"
          ]
        }
      ]
    }
  ]
}